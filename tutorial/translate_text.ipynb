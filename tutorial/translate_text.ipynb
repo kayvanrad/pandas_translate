{
 "cells": [
  {
   "cell_type": "code",
   "execution_count": 2,
   "id": "073e80cd-8ecd-40e2-8242-3a05f6b6f66f",
   "metadata": {},
   "outputs": [],
   "source": [
    "from pandas_translate.translate import PandasTranslate"
   ]
  },
  {
   "cell_type": "code",
   "execution_count": 3,
   "id": "560399d1-8e16-41f3-b502-cf2bb7c390c1",
   "metadata": {},
   "outputs": [
    {
     "data": {
      "text/plain": [
       "'bonjour'"
      ]
     },
     "execution_count": 3,
     "metadata": {},
     "output_type": "execute_result"
    }
   ],
   "source": [
    "PandasTranslate().translate('hello', 'fr')"
   ]
  },
  {
   "cell_type": "code",
   "execution_count": null,
   "id": "cf08ef3a-3000-4917-a216-afed98354e3f",
   "metadata": {},
   "outputs": [],
   "source": []
  }
 ],
 "metadata": {
  "kernelspec": {
   "display_name": "pandas_translate",
   "language": "python",
   "name": "pandas_translate"
  },
  "language_info": {
   "codemirror_mode": {
    "name": "ipython",
    "version": 3
   },
   "file_extension": ".py",
   "mimetype": "text/x-python",
   "name": "python",
   "nbconvert_exporter": "python",
   "pygments_lexer": "ipython3",
   "version": "3.10.6"
  }
 },
 "nbformat": 4,
 "nbformat_minor": 5
}
